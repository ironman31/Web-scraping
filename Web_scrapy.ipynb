{
 "cells": [
  {
   "cell_type": "markdown",
   "metadata": {},
   "source": [
    "# Here we are doing Web scraping the data from URL :  https://www.businesstimes.com.sg \n"
   ]
  },
  {
   "cell_type": "markdown",
   "metadata": {},
   "source": [
    " "
   ]
  },
  {
   "cell_type": "markdown",
   "metadata": {},
   "source": [
    "Here we are implementing the followings:\n",
    "    \n",
    "    1. Ploting the key words in the text\n",
    "    2. Hilighting named entities in a document\n",
    "    3. Sentiment analysis\n",
    "    4. Text summarization"
   ]
  },
  {
   "cell_type": "code",
   "execution_count": 1,
   "metadata": {},
   "outputs": [],
   "source": [
    "import requests\n",
    "import bs4\n",
    "from selenium import webdriver\n",
    "from selenium.webdriver.common.keys import Keys\n",
    "from selenium.webdriver.support.ui import WebDriverWait\n",
    "from bs4 import BeautifulSoup\n",
    "import pandas as pd\n",
    "import re\n",
    "import os\n"
   ]
  },
  {
   "cell_type": "code",
   "execution_count": 2,
   "metadata": {},
   "outputs": [],
   "source": [
    "# Import nltk\n",
    "import nltk\n",
    "from nltk.tokenize import RegexpTokenizer\n",
    "\n"
   ]
  },
  {
   "cell_type": "code",
   "execution_count": 3,
   "metadata": {},
   "outputs": [
    {
     "name": "stderr",
     "output_type": "stream",
     "text": [
      "/home/lohit/anaconda3/lib/python3.7/site-packages/statsmodels/tools/_testing.py:19: FutureWarning: pandas.util.testing is deprecated. Use the functions in the public API at pandas.testing instead.\n",
      "  import pandas.util.testing as tm\n"
     ]
    }
   ],
   "source": [
    "#Import datavis libraries\n",
    "import matplotlib.pyplot as plt\n",
    "import seaborn as sns\n"
   ]
  },
  {
   "cell_type": "code",
   "execution_count": 6,
   "metadata": {},
   "outputs": [
    {
     "name": "stdout",
     "output_type": "stream",
     "text": [
      "Article count:  1\n",
      "Date:  17 Apr 2020\n",
      "URL:  https://www.businesstimes.com.sg/energy-commodities/shell-greenlights-a10b-australia-natural-gas-pro...\n",
      "Article count:  2\n",
      "Date:  17 Apr 2020\n",
      "URL:  https://www.businesstimes.com.sg/energy-commodities/shell-vows-to-become-carbon-neutral-by-2050...\n",
      "Article count:  3\n",
      "Date:  16 Apr 2020\n",
      "URL:  https://www.businesstimes.com.sg/energy-commodities/oil-giant-shell-vows-to-become-carbon-neutral-by...\n",
      "Article count:  4\n",
      "Date:  14 Apr 2020\n",
      "URL:  https://www.businesstimes.com.sg/energy-commodities/shell-exxon-halt-some-gulf-of-mexico-output-due-...\n",
      "Article count:  5\n",
      "Date:  01 Apr 2020\n",
      "URL:  https://www.businesstimes.com.sg/energy-commodities/shell-slows-refining-takes-up-to-us800m-hit-afte...\n",
      "Article count:  6\n",
      "Date:  31 Mar 2020\n",
      "URL:  https://www.businesstimes.com.sg/energy-commodities/shell-sees-oil-sales-volume-margins-holding-up-i...\n",
      "Article count:  7\n",
      "Date:  31 Mar 2020\n",
      "URL:  https://www.businesstimes.com.sg/energy-commodities/shell-drops-out-of-major-us-lng-project-energy-t...\n",
      "Article count:  8\n",
      "Date:  14 Feb 2020\n",
      "URL:  https://www.businesstimes.com.sg/government-economy/shell-sends-some-singapore-staff-home-after-covi...\n",
      "Article count:  9\n",
      "Date:  07 Feb 2020\n",
      "URL:  https://www.businesstimes.com.sg/energy-commodities/shell-to-build-its-first-solar-farm-in-australia...\n",
      "Article count:  10\n",
      "Date:  31 Jan 2020\n",
      "URL:  https://www.businesstimes.com.sg/energy-commodities/shell-slows-rate-of-share-buybacks-as-q4-net-hal...\n",
      "Article count:  11\n",
      "Date:  30 Jan 2020\n",
      "URL:  https://www.businesstimes.com.sg/energy-commodities/shell-appoints-singaporean-euleen-goh-as-deputy-...\n",
      "Article count:  12\n",
      "Date:  13 Jan 2020\n",
      "URL:  https://www.businesstimes.com.sg/energy-commodities/shell-singapore-invests-in-polycarbonate-develop...\n",
      "Article count:  13\n",
      "Date:  20 Dec 2019\n",
      "URL:  https://www.businesstimes.com.sg/energy-commodities/singapore-jails-tanker-captain-in-shell-oil-heis...\n",
      "Article count:  14\n",
      "Date:  02 Nov 2019\n",
      "URL:  https://www.businesstimes.com.sg/companies-markets/sembmarine-bags-job-on-shell-floating-production-...\n",
      "Article count:  15\n",
      "Date:  01 Nov 2019\n",
      "URL:  https://www.businesstimes.com.sg/companies-markets/sembmarine-bags-shells-floating-production-unit-c...\n",
      "Article count:  16\n",
      "Date:  01 Nov 2019\n",
      "URL:  https://www.businesstimes.com.sg/energy-commodities/shell-warns-of-weak-economic-outlook-despite-bum...\n",
      "Article count:  17\n",
      "Date:  29 Oct 2019\n",
      "URL:  https://www.businesstimes.com.sg/energy-commodities/shell-reports-disruption-at-singapore-refinery-p...\n",
      "Article count:  18\n",
      "Date:  23 Oct 2019\n",
      "URL:  https://www.businesstimes.com.sg/government-economy/us-house-approves-bill-exposing-shell-company-ow...\n",
      "Article count:  19\n",
      "Date:  15 Oct 2019\n",
      "URL:  https://www.businesstimes.com.sg/government-economy/gic-kkr-shell-out-35b-pesos-for-425-stake-in-big...\n",
      "Article count:  20\n",
      "Date:  05 Oct 2019\n",
      "URL:  https://www.businesstimes.com.sg/energy-commodities/chevron-buys-40-stake-in-three-mexico-deepwater-...\n",
      "Article count:  21\n",
      "Date:  19 Sep 2019\n",
      "URL:  https://www.businesstimes.com.sg/energy-commodities/shell-loads-first-lsfo-cargo-from-singapore-refi...\n",
      "Article count:  22\n",
      "Date:  22 Aug 2019\n",
      "URL:  https://www.businesstimes.com.sg/transport/shell-ba-planning-eus-first-waste-to-jet-fuel-plant...\n",
      "Article count:  23\n",
      "Date:  20 Aug 2019\n",
      "URL:  https://www.businesstimes.com.sg/transport/shell-rolls-out-electric-vehicle-charging-points-at-singa...\n",
      "Article count:  24\n",
      "Date:  19 Aug 2019\n",
      "URL:  https://www.businesstimes.com.sg/transport/shell-launches-singapores-first-electric-vehicle-charging...\n",
      "Article count:  25\n",
      "Date:  07 Aug 2019\n",
      "URL:  https://www.businesstimes.com.sg/energy-commodities/shell-considers-solar-panels-to-power-singapore-...\n",
      "Article count:  26\n",
      "Date:  06 Aug 2019\n",
      "URL:  https://www.businesstimes.com.sg/energy-commodities/shell-considers-solar-panels-to-power-singapore-...\n",
      "Article count:  27\n",
      "Date:  15 Jul 2019\n",
      "URL:  https://www.businesstimes.com.sg/energy-commodities/shell-reports-operational-upset-at-unit-at-pulau...\n"
     ]
    }
   ],
   "source": [
    "import re\n",
    "import csv\n",
    "import pickle\n",
    "import time\n",
    "import pprint\n",
    "from collections import Counter\n",
    "from datetime import datetime, timedelta\n",
    "from urllib.request import urlopen\n",
    "from bs4 import BeautifulSoup  \n",
    "import pandas as pd\n",
    "\n",
    "def scraper(keyword):\n",
    "    \"\"\"\n",
    "    takes search term for Business Times (Singapore) news articles, \n",
    "    runs scraper through 10 pages of the archive and\n",
    "    returns dictionary with date (key) and article (value)\n",
    "    \"\"\"  \n",
    "    date_sentiments = {}\n",
    "    article_text = {}\n",
    "    counter = 1\n",
    "    for i in range(4):    \n",
    "        page = urlopen('https://www.businesstimes.com.sg/search/'+ keyword +'\\?page='+str(i)).read()\n",
    "        soup = BeautifulSoup(page, features=\"html.parser\")\n",
    "        posts = soup.findAll(\"div\", {\"class\": \"media-body\"})\n",
    "        for post in posts:  \n",
    "            time.sleep(1)\n",
    "            url = post.a['href']\n",
    "            date = post.time.text\n",
    "            print(\"Article count: \", counter)\n",
    "            print(\"Date: \", date)\n",
    "            print(\"URL: \", url[:100] + \"...\")\n",
    "            counter += 1 \n",
    "            if counter==8:\n",
    "                break\n",
    "            try:\n",
    "                link_page = urlopen(url).read()\n",
    "            except:\n",
    "                url = url[:-2]\n",
    "                link_page = urlopen(url).read()         \n",
    "            link_soup = BeautifulSoup(link_page)\n",
    "            sentences = link_soup.findAll(\"p\")\n",
    "            passage = \"\"\n",
    "            for sentence in sentences:\n",
    "                passage += sentence.text  \n",
    "            article_text.setdefault(date, []).append(passage)\n",
    "    articles = {}\n",
    "    for k,v in article_text.items():\n",
    "        articles[datetime.strptime(k, '%d %b %Y').date() + timedelta(days=1)] = v \n",
    "    return articles\n",
    "\n",
    "# runs scraper function with search term \"shell\" (for the company Royal Dutch Shell)\n",
    "articles = scraper(\"shell\")\n",
    "\n",
    "# converts the dict into a pandas data frame and \n",
    "# deals with articles that appear on same date (creating more than one content column)\n",
    "df = pd.DataFrame.from_dict(articles, columns=['1', '2'], orient='index')\n",
    "df['content'] = df['1'] + ' ' + df['2'].fillna('')\n",
    "df.drop(columns=['1', '2'], inplace=True)\n",
    "\n",
    "# pickles dataframe and saves it in a data folder\n",
    "f = open('/home/lohit/Downloads/Data_SampleGen1/Raw/[IN-023C]/2018/2018-12/Inverter_1/df.pkl', 'wb')\n",
    "pickle.dump(df, f)\n",
    "f.close()"
   ]
  },
  {
   "cell_type": "code",
   "execution_count": 7,
   "metadata": {},
   "outputs": [
    {
     "data": {
      "text/plain": [
       "'[SINGAPORE] Shell said on Friday it had identified an employee at its main Singapore office who had been in contact with a coronavirus case and had advised other staff close to him to work from home.The firm did not say how many staff it had impacted at its office in The Metropolis...Get our introductory offer at onlyCancel anytime*$0.99/month for first 3 months$29.90/month for the next 9 monthsNeed help?CALL +65 6388 3838 EMAIL btocs@sph.com.sgOPERATING HOURS (+8 GMT) MON-FRI: 8:30AM-5:30PM[SINGAPORE]\\xa0Why do we get so angsty about petrol prices whenever crude oil prices fall?CO-WORKING operator Found8 on Saturday said it will offer all active members in Singapore 30 per cent off fees for...[SINGAPORE] The Ministry of Health (MOH) confirmed another 618 new Covid-19 cases on Saturday, taking the total...[NEW YORK] Several publicly listed companies worth hundreds of millions of dollars said on Friday they had no plans...[NEW YORK] AT&T, the telecommunications giant that has moved into media and entertainment, announced a changing...By signing up, you agree to our Privacy Policy and Terms and Conditions.SPH Digital News© 2020 SINGAPORE PRESS HOLDINGS LTD. REGN NO. 198402668E '"
      ]
     },
     "execution_count": 7,
     "metadata": {},
     "output_type": "execute_result"
    }
   ],
   "source": [
    "df['content'][5]"
   ]
  },
  {
   "cell_type": "code",
   "execution_count": 8,
   "metadata": {},
   "outputs": [
    {
     "data": {
      "image/png": "[encoded data removed]",
      "text/plain": [
       "<Figure size 432x288 with 1 Axes>"
      ]
     },
     "metadata": {
      "needs_background": "light"
     },
     "output_type": "display_data"
    },
    {
     "data": {
      "text/plain": [
       "<matplotlib.axes._subplots.AxesSubplot at 0x7f2344a3b0b8>"
      ]
     },
     "execution_count": 8,
     "metadata": {},
     "output_type": "execute_result"
    }
   ],
   "source": [
    "# Plot the key words in the data\n",
    "x=df['content'][5]\n",
    "\n",
    "tokenizer = RegexpTokenizer('\\w+'\n",
    "                           )\n",
    "# Create tokens\n",
    "tokens = tokenizer.tokenize(x)\n",
    "\n",
    "# Initialize new list\n",
    "words = []\n",
    "\n",
    "# Loop through list tokens and make lower case\n",
    "for word in tokens:\n",
    "    words.append(word.lower())\n",
    "# Get English stopwords and print some of them\n",
    "sw = nltk.corpus.stopwords.words('english')\n",
    "# Initialize new list\n",
    "words_ns = []\n",
    "# Add to words_ns all words that are in words but not in sw\n",
    "for word in words:\n",
    "    if word not in sw:\n",
    "        words_ns.append(word)\n",
    "# Create freq dist and plot\n",
    "freqdist1 = nltk.FreqDist(words_ns)\n",
    "freqdist1.plot(25)"
   ]
  },
  {
   "cell_type": "code",
   "execution_count": null,
   "metadata": {},
   "outputs": [],
   "source": []
  },
  {
   "cell_type": "code",
   "execution_count": 9,
   "metadata": {},
   "outputs": [
    {
     "name": "stdout",
     "output_type": "stream",
     "text": [
      "[NEW YORK] A leak in a pipeline that carries oil from US Gulf of Mexico offshore facilities has halted production at two fields, Exxon Mobil Corp and Royal Dutch Shell said on Monday.Shell said it temporarily halted production on its 100,000-barrel-per-day deepwater Perdido production hub last Thursday after a subsurface leak was discovered on Exxon's Hoover Offshore Oil Pipeline System (HOOPS). Production on Exxon's Hoover platform also was halted because of the leak, Exxon said.The HOOPS pipeline has been\n",
      "['[', 'NEW', 'YORK', ']', 'A', 'leak', 'in', 'a', 'pipeline', 'that', 'carries', 'oil', 'from', 'US', 'Gulf', 'of', 'Mexico', 'offshore', 'facilities', 'has', 'halted', 'production', 'at', 'two', 'fields']\n",
      "['[', 'NEW', 'YORK', ']', 'leak', 'pipeline', 'carry', 'oil', 'Gulf', 'Mexico', 'offshore', 'facility', 'halt', 'production', 'field', ',', 'Exxon', 'Mobil', 'Corp', 'Royal', 'Dutch', 'Shell', 'say', 'Monday', '.']\n",
      "['that', 'oil', 'Mexico', 'production', 'two fields', 'Exxon Mobil Corp and Royal Dutch Shell', 'Monday', 'Shell', 'it', 'production', 'day', 'a subsurface leak']\n",
      "['[NEW YORK]',\n",
      " 'A leak in a pipeline that carries oil from US Gulf of Mexico offshore '\n",
      " 'facilities has halted production at two fields, Exxon Mobil Corp and Royal '\n",
      " 'Dutch Shell said on Monday.',\n",
      " 'Shell said it temporarily halted production on its 100,000-barrel-per-day '\n",
      " 'deepwater Perdido production hub last Thursday after a subsurface leak was '\n",
      " \"discovered on Exxon's Hoover Offshore Oil Pipeline System (HOOPS).\"]\n"
     ]
    },
    {
     "data": {
      "text/plain": [
       "[('NEW YORK', 'GPE', 'Countries, cities, states'),\n",
       " ('US Gulf', 'LOC', 'Non-GPE locations, mountain ranges, bodies of water'),\n",
       " ('Mexico', 'GPE', 'Countries, cities, states'),\n",
       " ('two', 'CARDINAL', 'Numerals that do not fall under another type'),\n",
       " ('Exxon Mobil Corp', 'ORG', 'Companies, agencies, institutions, etc.'),\n",
       " ('Royal Dutch Shell', 'ORG', 'Companies, agencies, institutions, etc.'),\n",
       " ('Monday', 'DATE', 'Absolute or relative dates or periods'),\n",
       " ('Shell', 'ORG', 'Companies, agencies, institutions, etc.'),\n",
       " ('Perdido', 'PRODUCT', 'Objects, vehicles, foods, etc. (not services)'),\n",
       " ('last Thursday', 'DATE', 'Absolute or relative dates or periods')]"
      ]
     },
     "execution_count": 9,
     "metadata": {},
     "output_type": "execute_result"
    }
   ],
   "source": [
    "import spacy\n",
    "# only run line 3 if language model has not been pre-installed\n",
    "# !python -m spacy download en_core_web_lg\n",
    "# spacy_nlp = spacy.load('')\n",
    "# spacy_nlp = spacy.load('en_core_web_md')\n",
    "import en_core_web_sm\n",
    "\n",
    "spacy_nlp = en_core_web_sm.load()\n",
    "\n",
    "from spacy import displacy\n",
    "from spacy.lang.en.stop_words import STOP_WORDS\n",
    "spacy.prefer_gpu()\n",
    "\n",
    "import matplotlib.pyplot as plt\n",
    "import seaborn as sns\n",
    "\n",
    "# show Spacy's NLP pipeline components\n",
    "spacy_nlp.pipe_names\n",
    "\n",
    "# sample - not WHOLE DOC\n",
    "sample = df.iloc[2]['content']\n",
    "print(sample[:512])\n",
    "\n",
    "#create Spacy object and run NLP pipeline\n",
    "doc = spacy_nlp(sample)\n",
    "\n",
    "# before\n",
    "tokens = [token.text for token in doc]\n",
    "print(tokens[:25])\n",
    "\n",
    "#after \n",
    "tokens = [token.lemma_ for token in doc if not token.is_stop]\n",
    "print(tokens[:25])\n",
    "\n",
    "# noun chunks\n",
    "chunks = [chunk.text for chunk in doc.noun_chunks]\n",
    "print(chunks[3:15])\n",
    "\n",
    "# sentenciser (if that's a real word!)\n",
    "sentences = [sent.string.strip() for sent in doc.sents]\n",
    "pprint.pprint(sentences[:3])\n",
    "\n",
    "# Named-entity recognition (NER)\n",
    "\n",
    "# shows an NER, its abbrevation (label) and the full name\n",
    "NER_labels = [(X.text, X.label_, spacy.explain(X.label_)) for X in doc.ents]\n",
    "NER_labels[:10]\n",
    "\n"
   ]
  },
  {
   "cell_type": "code",
   "execution_count": 10,
   "metadata": {},
   "outputs": [
    {
     "data": {
      "text/html": [
       "<span class=\"tex2jax_ignore\"><div class=\"entities\" style=\"line-height: 2.5; direction: ltr\">['[\n",
       "<mark class=\"entity\" style=\"background: #feca74; padding: 0.45em 0.6em; margin: 0 0.25em; line-height: 1; border-radius: 0.35em;\">\n",
       "    NEW YORK\n",
       "    <span style=\"font-size: 0.8em; font-weight: bold; line-height: 1; border-radius: 0.35em; text-transform: uppercase; vertical-align: middle; margin-left: 0.5rem\">GPE</span>\n",
       "</mark>\n",
       "]', 'A leak in a pipeline that carries oil from \n",
       "<mark class=\"entity\" style=\"background: #ff9561; padding: 0.45em 0.6em; margin: 0 0.25em; line-height: 1; border-radius: 0.35em;\">\n",
       "    US Gulf\n",
       "    <span style=\"font-size: 0.8em; font-weight: bold; line-height: 1; border-radius: 0.35em; text-transform: uppercase; vertical-align: middle; margin-left: 0.5rem\">LOC</span>\n",
       "</mark>\n",
       " of \n",
       "<mark class=\"entity\" style=\"background: #feca74; padding: 0.45em 0.6em; margin: 0 0.25em; line-height: 1; border-radius: 0.35em;\">\n",
       "    Mexico\n",
       "    <span style=\"font-size: 0.8em; font-weight: bold; line-height: 1; border-radius: 0.35em; text-transform: uppercase; vertical-align: middle; margin-left: 0.5rem\">GPE</span>\n",
       "</mark>\n",
       " offshore facilities has halted production at \n",
       "<mark class=\"entity\" style=\"background: #e4e7d2; padding: 0.45em 0.6em; margin: 0 0.25em; line-height: 1; border-radius: 0.35em;\">\n",
       "    two\n",
       "    <span style=\"font-size: 0.8em; font-weight: bold; line-height: 1; border-radius: 0.35em; text-transform: uppercase; vertical-align: middle; margin-left: 0.5rem\">CARDINAL</span>\n",
       "</mark>\n",
       " fields, \n",
       "<mark class=\"entity\" style=\"background: #7aecec; padding: 0.45em 0.6em; margin: 0 0.25em; line-height: 1; border-radius: 0.35em;\">\n",
       "    Exxon Mobil Corp\n",
       "    <span style=\"font-size: 0.8em; font-weight: bold; line-height: 1; border-radius: 0.35em; text-transform: uppercase; vertical-align: middle; margin-left: 0.5rem\">ORG</span>\n",
       "</mark>\n",
       " and \n",
       "<mark class=\"entity\" style=\"background: #7aecec; padding: 0.45em 0.6em; margin: 0 0.25em; line-height: 1; border-radius: 0.35em;\">\n",
       "    Royal Dutch Shell\n",
       "    <span style=\"font-size: 0.8em; font-weight: bold; line-height: 1; border-radius: 0.35em; text-transform: uppercase; vertical-align: middle; margin-left: 0.5rem\">ORG</span>\n",
       "</mark>\n",
       " said on \n",
       "<mark class=\"entity\" style=\"background: #bfe1d9; padding: 0.45em 0.6em; margin: 0 0.25em; line-height: 1; border-radius: 0.35em;\">\n",
       "    Monday\n",
       "    <span style=\"font-size: 0.8em; font-weight: bold; line-height: 1; border-radius: 0.35em; text-transform: uppercase; vertical-align: middle; margin-left: 0.5rem\">DATE</span>\n",
       "</mark>\n",
       ".', &quot;\n",
       "<mark class=\"entity\" style=\"background: #7aecec; padding: 0.45em 0.6em; margin: 0 0.25em; line-height: 1; border-radius: 0.35em;\">\n",
       "    Shell\n",
       "    <span style=\"font-size: 0.8em; font-weight: bold; line-height: 1; border-radius: 0.35em; text-transform: uppercase; vertical-align: middle; margin-left: 0.5rem\">ORG</span>\n",
       "</mark>\n",
       " said it temporarily halted production on its 100,000-barrel-per-day deepwater \n",
       "<mark class=\"entity\" style=\"background: #aa9cfc; padding: 0.45em 0.6em; margin: 0 0.25em; line-height: 1; border-radius: 0.35em;\">\n",
       "    Perdido\n",
       "    <span style=\"font-size: 0.8em; font-weight: bold; line-height: 1; border-radius: 0.35em; text-transform: uppercase; vertical-align: middle; margin-left: 0.5rem\">PERSON</span>\n",
       "</mark>\n",
       " production hub \n",
       "<mark class=\"entity\" style=\"background: #bfe1d9; padding: 0.45em 0.6em; margin: 0 0.25em; line-height: 1; border-radius: 0.35em;\">\n",
       "    last Thursday\n",
       "    <span style=\"font-size: 0.8em; font-weight: bold; line-height: 1; border-radius: 0.35em; text-transform: uppercase; vertical-align: middle; margin-left: 0.5rem\">DATE</span>\n",
       "</mark>\n",
       " after a subsurface leak was discovered on \n",
       "<mark class=\"entity\" style=\"background: #7aecec; padding: 0.45em 0.6em; margin: 0 0.25em; line-height: 1; border-radius: 0.35em;\">\n",
       "    Exxon\n",
       "    <span style=\"font-size: 0.8em; font-weight: bold; line-height: 1; border-radius: 0.35em; text-transform: uppercase; vertical-align: middle; margin-left: 0.5rem\">ORG</span>\n",
       "</mark>\n",
       "'s \n",
       "<mark class=\"entity\" style=\"background: #7aecec; padding: 0.45em 0.6em; margin: 0 0.25em; line-height: 1; border-radius: 0.35em;\">\n",
       "    Hoover Offshore Oil Pipeline System\n",
       "    <span style=\"font-size: 0.8em; font-weight: bold; line-height: 1; border-radius: 0.35em; text-transform: uppercase; vertical-align: middle; margin-left: 0.5rem\">ORG</span>\n",
       "</mark>\n",
       " (HOOPS).&quot;, &quot;Production on \n",
       "<mark class=\"entity\" style=\"background: #7aecec; padding: 0.45em 0.6em; margin: 0 0.25em; line-height: 1; border-radius: 0.35em;\">\n",
       "    Exxon\n",
       "    <span style=\"font-size: 0.8em; font-weight: bold; line-height: 1; border-radius: 0.35em; text-transform: uppercase; vertical-align: middle; margin-left: 0.5rem\">ORG</span>\n",
       "</mark>\n",
       "'s \n",
       "<mark class=\"entity\" style=\"background: #7aecec; padding: 0.45em 0.6em; margin: 0 0.25em; line-height: 1; border-radius: 0.35em;\">\n",
       "    Hoover\n",
       "    <span style=\"font-size: 0.8em; font-weight: bold; line-height: 1; border-radius: 0.35em; text-transform: uppercase; vertical-align: middle; margin-left: 0.5rem\">ORG</span>\n",
       "</mark>\n",
       " platform also was halted because of the leak, \n",
       "<mark class=\"entity\" style=\"background: #7aecec; padding: 0.45em 0.6em; margin: 0 0.25em; line-height: 1; border-radius: 0.35em;\">\n",
       "    Exxon\n",
       "    <span style=\"font-size: 0.8em; font-weight: bold; line-height: 1; border-radius: 0.35em; text-transform: uppercase; vertical-align: middle; margin-left: 0.5rem\">ORG</span>\n",
       "</mark>\n",
       " said.&quot;, 'The \n",
       "<mark class=\"entity\" style=\"background: #7aecec; padding: 0.45em 0.6em; margin: 0 0.25em; line-height: 1; border-radius: 0.35em;\">\n",
       "    HOOPS\n",
       "    <span style=\"font-size: 0.8em; font-weight: bold; line-height: 1; border-radius: 0.35em; text-transform: uppercase; vertical-align: middle; margin-left: 0.5rem\">ORG</span>\n",
       "</mark>\n",
       " pipeline has been closed for repairs, a spokeswoman for \n",
       "<mark class=\"entity\" style=\"background: #7aecec; padding: 0.45em 0.6em; margin: 0 0.25em; line-height: 1; border-radius: 0.35em;\">\n",
       "    Shell\n",
       "    <span style=\"font-size: 0.8em; font-weight: bold; line-height: 1; border-radius: 0.35em; text-transform: uppercase; vertical-align: middle; margin-left: 0.5rem\">ORG</span>\n",
       "</mark>\n",
       " said.', '\n",
       "<mark class=\"entity\" style=\"background: #7aecec; padding: 0.45em 0.6em; margin: 0 0.25em; line-height: 1; border-radius: 0.35em;\">\n",
       "    Exxon\n",
       "    <span style=\"font-size: 0.8em; font-weight: bold; line-height: 1; border-radius: 0.35em; text-transform: uppercase; vertical-align: middle; margin-left: 0.5rem\">ORG</span>\n",
       "</mark>\n",
       " has notified government agencies and shippers and has responded to an onshore release of crude oil at a facility in \n",
       "<mark class=\"entity\" style=\"background: #feca74; padding: 0.45em 0.6em; margin: 0 0.25em; line-height: 1; border-radius: 0.35em;\">\n",
       "    Freeport\n",
       "    <span style=\"font-size: 0.8em; font-weight: bold; line-height: 1; border-radius: 0.35em; text-transform: uppercase; vertical-align: middle; margin-left: 0.5rem\">GPE</span>\n",
       "</mark>\n",
       ", \n",
       "<mark class=\"entity\" style=\"background: #feca74; padding: 0.45em 0.6em; margin: 0 0.25em; line-height: 1; border-radius: 0.35em;\">\n",
       "    Texas\n",
       "    <span style=\"font-size: 0.8em; font-weight: bold; line-height: 1; border-radius: 0.35em; text-transform: uppercase; vertical-align: middle; margin-left: 0.5rem\">GPE</span>\n",
       "</mark>\n",
       ", spokesman \n",
       "<mark class=\"entity\" style=\"background: #aa9cfc; padding: 0.45em 0.6em; margin: 0 0.25em; line-height: 1; border-radius: 0.35em;\">\n",
       "    Todd Spitler\n",
       "    <span style=\"font-size: 0.8em; font-weight: bold; line-height: 1; border-radius: 0.35em; text-transform: uppercase; vertical-align: middle; margin-left: 0.5rem\">PERSON</span>\n",
       "</mark>\n",
       " said on \n",
       "<mark class=\"entity\" style=\"background: #bfe1d9; padding: 0.45em 0.6em; margin: 0 0.25em; line-height: 1; border-radius: 0.35em;\">\n",
       "    Monday\n",
       "    <span style=\"font-size: 0.8em; font-weight: bold; line-height: 1; border-radius: 0.35em; text-transform: uppercase; vertical-align: middle; margin-left: 0.5rem\">DATE</span>\n",
       "</mark>\n",
       ".', '&quot;We', 'anticipate resuming flow on the line in a timely manner once it is safe to do so,&quot; he said.', '\n",
       "<mark class=\"entity\" style=\"background: #7aecec; padding: 0.45em 0.6em; margin: 0 0.25em; line-height: 1; border-radius: 0.35em;\">\n",
       "    Exxon\n",
       "    <span style=\"font-size: 0.8em; font-weight: bold; line-height: 1; border-radius: 0.35em; text-transform: uppercase; vertical-align: middle; margin-left: 0.5rem\">ORG</span>\n",
       "</mark>\n",
       " did not say what caused the leak or how much production was affected.', 'By signing up, you agree to our \n",
       "<mark class=\"entity\" style=\"background: #f0d0ff; padding: 0.45em 0.6em; margin: 0 0.25em; line-height: 1; border-radius: 0.35em;\">\n",
       "    Privacy Policy and Terms and Conditions\n",
       "    <span style=\"font-size: 0.8em; font-weight: bold; line-height: 1; border-radius: 0.35em; text-transform: uppercase; vertical-align: middle; margin-left: 0.5rem\">WORK_OF_ART</span>\n",
       "</mark>\n",
       ".', 'HOOPS connects the \n",
       "<mark class=\"entity\" style=\"background: #7aecec; padding: 0.45em 0.6em; margin: 0 0.25em; line-height: 1; border-radius: 0.35em;\">\n",
       "    Exxon\n",
       "    <span style=\"font-size: 0.8em; font-weight: bold; line-height: 1; border-radius: 0.35em; text-transform: uppercase; vertical-align: middle; margin-left: 0.5rem\">ORG</span>\n",
       "</mark>\n",
       "-operated \n",
       "<mark class=\"entity\" style=\"background: #feca74; padding: 0.45em 0.6em; margin: 0 0.25em; line-height: 1; border-radius: 0.35em;\">\n",
       "    Hoover\n",
       "    <span style=\"font-size: 0.8em; font-weight: bold; line-height: 1; border-radius: 0.35em; text-transform: uppercase; vertical-align: middle; margin-left: 0.5rem\">GPE</span>\n",
       "</mark>\n",
       ", \n",
       "<mark class=\"entity\" style=\"background: #aa9cfc; padding: 0.45em 0.6em; margin: 0 0.25em; line-height: 1; border-radius: 0.35em;\">\n",
       "    Marshall\n",
       "    <span style=\"font-size: 0.8em; font-weight: bold; line-height: 1; border-radius: 0.35em; text-transform: uppercase; vertical-align: middle; margin-left: 0.5rem\">PERSON</span>\n",
       "</mark>\n",
       " and \n",
       "<mark class=\"entity\" style=\"background: #aa9cfc; padding: 0.45em 0.6em; margin: 0 0.25em; line-height: 1; border-radius: 0.35em;\">\n",
       "    Madison\n",
       "    <span style=\"font-size: 0.8em; font-weight: bold; line-height: 1; border-radius: 0.35em; text-transform: uppercase; vertical-align: middle; margin-left: 0.5rem\">PERSON</span>\n",
       "</mark>\n",
       " offshore fields, which combined produce \n",
       "<mark class=\"entity\" style=\"background: #e4e7d2; padding: 0.45em 0.6em; margin: 0 0.25em; line-height: 1; border-radius: 0.35em;\">\n",
       "    about 4,000 barrels\n",
       "    <span style=\"font-size: 0.8em; font-weight: bold; line-height: 1; border-radius: 0.35em; text-transform: uppercase; vertical-align: middle; margin-left: 0.5rem\">QUANTITY</span>\n",
       "</mark>\n",
       " of oil per day, according to a \n",
       "<mark class=\"entity\" style=\"background: #bfe1d9; padding: 0.45em 0.6em; margin: 0 0.25em; line-height: 1; border-radius: 0.35em;\">\n",
       "    2018\n",
       "    <span style=\"font-size: 0.8em; font-weight: bold; line-height: 1; border-radius: 0.35em; text-transform: uppercase; vertical-align: middle; margin-left: 0.5rem\">DATE</span>\n",
       "</mark>\n",
       " marketing brochure.', &quot;\n",
       "<mark class=\"entity\" style=\"background: #7aecec; padding: 0.45em 0.6em; margin: 0 0.25em; line-height: 1; border-radius: 0.35em;\">\n",
       "    Shell\n",
       "    <span style=\"font-size: 0.8em; font-weight: bold; line-height: 1; border-radius: 0.35em; text-transform: uppercase; vertical-align: middle; margin-left: 0.5rem\">ORG</span>\n",
       "</mark>\n",
       "'s \n",
       "<mark class=\"entity\" style=\"background: #aa9cfc; padding: 0.45em 0.6em; margin: 0 0.25em; line-height: 1; border-radius: 0.35em;\">\n",
       "    Perdido hub\n",
       "    <span style=\"font-size: 0.8em; font-weight: bold; line-height: 1; border-radius: 0.35em; text-transform: uppercase; vertical-align: middle; margin-left: 0.5rem\">PERSON</span>\n",
       "</mark>\n",
       " is moored in \n",
       "<mark class=\"entity\" style=\"background: #e4e7d2; padding: 0.45em 0.6em; margin: 0 0.25em; line-height: 1; border-radius: 0.35em;\">\n",
       "    some 8,000 feet\n",
       "    <span style=\"font-size: 0.8em; font-weight: bold; line-height: 1; border-radius: 0.35em; text-transform: uppercase; vertical-align: middle; margin-left: 0.5rem\">QUANTITY</span>\n",
       "</mark>\n",
       " (\n",
       "<mark class=\"entity\" style=\"background: #e4e7d2; padding: 0.45em 0.6em; margin: 0 0.25em; line-height: 1; border-radius: 0.35em;\">\n",
       "    2,438\n",
       "    <span style=\"font-size: 0.8em; font-weight: bold; line-height: 1; border-radius: 0.35em; text-transform: uppercase; vertical-align: middle; margin-left: 0.5rem\">CARDINAL</span>\n",
       "</mark>\n",
       " m) of water \n",
       "<mark class=\"entity\" style=\"background: #e4e7d2; padding: 0.45em 0.6em; margin: 0 0.25em; line-height: 1; border-radius: 0.35em;\">\n",
       "    about 200 miles\n",
       "    <span style=\"font-size: 0.8em; font-weight: bold; line-height: 1; border-radius: 0.35em; text-transform: uppercase; vertical-align: middle; margin-left: 0.5rem\">QUANTITY</span>\n",
       "</mark>\n",
       " (\n",
       "<mark class=\"entity\" style=\"background: #e4e7d2; padding: 0.45em 0.6em; margin: 0 0.25em; line-height: 1; border-radius: 0.35em;\">\n",
       "    322 km\n",
       "    <span style=\"font-size: 0.8em; font-weight: bold; line-height: 1; border-radius: 0.35em; text-transform: uppercase; vertical-align: middle; margin-left: 0.5rem\">QUANTITY</span>\n",
       "</mark>\n",
       ") south of \n",
       "<mark class=\"entity\" style=\"background: #feca74; padding: 0.45em 0.6em; margin: 0 0.25em; line-height: 1; border-radius: 0.35em;\">\n",
       "    Galveston\n",
       "    <span style=\"font-size: 0.8em; font-weight: bold; line-height: 1; border-radius: 0.35em; text-transform: uppercase; vertical-align: middle; margin-left: 0.5rem\">GPE</span>\n",
       "</mark>\n",
       ", \n",
       "<mark class=\"entity\" style=\"background: #feca74; padding: 0.45em 0.6em; margin: 0 0.25em; line-height: 1; border-radius: 0.35em;\">\n",
       "    Texas\n",
       "    <span style=\"font-size: 0.8em; font-weight: bold; line-height: 1; border-radius: 0.35em; text-transform: uppercase; vertical-align: middle; margin-left: 0.5rem\">GPE</span>\n",
       "</mark>\n",
       ", and is a joint venture among \n",
       "<mark class=\"entity\" style=\"background: #7aecec; padding: 0.45em 0.6em; margin: 0 0.25em; line-height: 1; border-radius: 0.35em;\">\n",
       "    Shell\n",
       "    <span style=\"font-size: 0.8em; font-weight: bold; line-height: 1; border-radius: 0.35em; text-transform: uppercase; vertical-align: middle; margin-left: 0.5rem\">ORG</span>\n",
       "</mark>\n",
       ", \n",
       "<mark class=\"entity\" style=\"background: #7aecec; padding: 0.45em 0.6em; margin: 0 0.25em; line-height: 1; border-radius: 0.35em;\">\n",
       "    BP Plc\n",
       "    <span style=\"font-size: 0.8em; font-weight: bold; line-height: 1; border-radius: 0.35em; text-transform: uppercase; vertical-align: middle; margin-left: 0.5rem\">ORG</span>\n",
       "</mark>\n",
       " and \n",
       "<mark class=\"entity\" style=\"background: #7aecec; padding: 0.45em 0.6em; margin: 0 0.25em; line-height: 1; border-radius: 0.35em;\">\n",
       "    Chevron Corp .The\n",
       "    <span style=\"font-size: 0.8em; font-weight: bold; line-height: 1; border-radius: 0.35em; text-transform: uppercase; vertical-align: middle; margin-left: 0.5rem\">ORG</span>\n",
       "</mark>\n",
       " 153-mile (246-km) HOOPS pipeline brings oil from several offshore oilfields to \n",
       "<mark class=\"entity\" style=\"background: #7aecec; padding: 0.45em 0.6em; margin: 0 0.25em; line-height: 1; border-radius: 0.35em;\">\n",
       "    the Quintana Terminal\n",
       "    <span style=\"font-size: 0.8em; font-weight: bold; line-height: 1; border-radius: 0.35em; text-transform: uppercase; vertical-align: middle; margin-left: 0.5rem\">ORG</span>\n",
       "</mark>\n",
       " near \n",
       "<mark class=\"entity\" style=\"background: #feca74; padding: 0.45em 0.6em; margin: 0 0.25em; line-height: 1; border-radius: 0.35em;\">\n",
       "    Freeport\n",
       "    <span style=\"font-size: 0.8em; font-weight: bold; line-height: 1; border-radius: 0.35em; text-transform: uppercase; vertical-align: middle; margin-left: 0.5rem\">GPE</span>\n",
       "</mark>\n",
       ", according to an \n",
       "<mark class=\"entity\" style=\"background: #7aecec; padding: 0.45em 0.6em; margin: 0 0.25em; line-height: 1; border-radius: 0.35em;\">\n",
       "    Exxon\n",
       "    <span style=\"font-size: 0.8em; font-weight: bold; line-height: 1; border-radius: 0.35em; text-transform: uppercase; vertical-align: middle; margin-left: 0.5rem\">ORG</span>\n",
       "</mark>\n",
       " website.&quot;, 'REUTERS [SINGAPORE]']</div></span>"
      ],
      "text/plain": [
       "<IPython.core.display.HTML object>"
      ]
     },
     "metadata": {},
     "output_type": "display_data"
    }
   ],
   "source": [
    "# highlights named entities in a document (here the first 13 sentences of it)\n",
    "displacy.render(spacy_nlp(str(sentences[:13])), jupyter=True, style='ent')"
   ]
  },
  {
   "cell_type": "code",
   "execution_count": 11,
   "metadata": {},
   "outputs": [
    {
     "data": {
      "text/plain": [
       "[('say', 122),\n",
       " ('Shell', 98),\n",
       " ('company', 67),\n",
       " ('price', 65),\n",
       " ('oil', 62),\n",
       " ('SINGAPORE', 53),\n",
       " ('YORK', 53),\n",
       " ('[NEW', 52),\n",
       " ('Saturday', 51),\n",
       " ('term', 50)]"
      ]
     },
     "execution_count": 11,
     "metadata": {},
     "output_type": "execute_result"
    }
   ],
   "source": [
    "# to apply NER to all articles, we concatenate all rows of the dataframe\n",
    "whole = spacy_nlp(df.content.str.cat(sep=' '))\n",
    "\n",
    "# here we look at the categories and the number of occurrences \n",
    "labels = [spacy.explain(x.label_) for x in whole.ents]\n",
    "Counter(labels)\n",
    "\n",
    "# this shows the most frequent named entities\n",
    "items = [x.text for x in whole.ents]\n",
    "Counter(items).most_common(10)\n",
    "\n",
    "# apply lemmatisation + stopword removal to all words; show the most frequest of those\n",
    "words = [token.lemma_ for token in whole.doc if token.is_stop != True and token.is_punct != True]\n",
    "Counter(words).most_common(10)"
   ]
  },
  {
   "cell_type": "code",
   "execution_count": 12,
   "metadata": {},
   "outputs": [
    {
     "name": "stderr",
     "output_type": "stream",
     "text": [
      "[nltk_data] Downloading package vader_lexicon to\n",
      "[nltk_data]     /home/lohit/nltk_data...\n",
      "[nltk_data]   Package vader_lexicon is already up-to-date!\n"
     ]
    },
    {
     "data": {
      "text/html": [
       "<div>\n",
       "<style scoped>\n",
       "    .dataframe tbody tr th:only-of-type {\n",
       "        vertical-align: middle;\n",
       "    }\n",
       "\n",
       "    .dataframe tbody tr th {\n",
       "        vertical-align: top;\n",
       "    }\n",
       "\n",
       "    .dataframe thead th {\n",
       "        text-align: right;\n",
       "    }\n",
       "</style>\n",
       "<table border=\"1\" class=\"dataframe\">\n",
       "  <thead>\n",
       "    <tr style=\"text-align: right;\">\n",
       "      <th></th>\n",
       "      <th>content</th>\n",
       "      <th>spacy_tokens</th>\n",
       "      <th>spacy_processed</th>\n",
       "      <th>spacy_string</th>\n",
       "      <th>TextBlob_spacy</th>\n",
       "      <th>NLTK_spacy</th>\n",
       "    </tr>\n",
       "  </thead>\n",
       "  <tbody>\n",
       "    <tr>\n",
       "      <th>2020-04-18</th>\n",
       "      <td>[SYDNEY] Royal Dutch Shell said on Friday it h...</td>\n",
       "      <td>([, SYDNEY, ], Royal, Dutch, Shell, said, on, ...</td>\n",
       "      <td>[[, SYDNEY, ], Royal, Dutch, Shell, say, Frida...</td>\n",
       "      <td>[ SYDNEY ] Royal Dutch Shell say Friday take f...</td>\n",
       "      <td>0.036</td>\n",
       "      <td>-0.825</td>\n",
       "    </tr>\n",
       "    <tr>\n",
       "      <th>2020-04-17</th>\n",
       "      <td>[LONDON] Anglo-Dutch oil giant Royal Dutch She...</td>\n",
       "      <td>([, LONDON, ], Anglo, -, Dutch, oil, giant, Ro...</td>\n",
       "      <td>[[, LONDON, ], anglo, -, dutch, oil, giant, Ro...</td>\n",
       "      <td>[ LONDON ] anglo - dutch oil giant Royal Dutch...</td>\n",
       "      <td>0.038</td>\n",
       "      <td>-0.939</td>\n",
       "    </tr>\n",
       "    <tr>\n",
       "      <th>2020-04-15</th>\n",
       "      <td>[NEW YORK] A leak in a pipeline that carries o...</td>\n",
       "      <td>([, NEW, YORK, ], A, leak, in, a, pipeline, th...</td>\n",
       "      <td>[[, NEW, YORK, ], leak, pipeline, carry, oil, ...</td>\n",
       "      <td>[ NEW YORK ] leak pipeline carry oil Gulf Mexi...</td>\n",
       "      <td>-0.006</td>\n",
       "      <td>-0.402</td>\n",
       "    </tr>\n",
       "    <tr>\n",
       "      <th>2020-04-02</th>\n",
       "      <td>LondonROYAL Dutch Shell slowed refining output...</td>\n",
       "      <td>(LondonROYAL, Dutch, Shell, slowed, refining, ...</td>\n",
       "      <td>[LondonROYAL, Dutch, Shell, slow, refining, ou...</td>\n",
       "      <td>LondonROYAL Dutch Shell slow refining output w...</td>\n",
       "      <td>-0.037</td>\n",
       "      <td>0.331</td>\n",
       "    </tr>\n",
       "    <tr>\n",
       "      <th>2020-04-01</th>\n",
       "      <td>[LONDON] Royal Dutch Shell Plc said it doesn't...</td>\n",
       "      <td>([, LONDON, ], Royal, Dutch, Shell, Plc, said,...</td>\n",
       "      <td>[[, LONDON, ], Royal, Dutch, Shell, Plc, say, ...</td>\n",
       "      <td>[ LONDON ] Royal Dutch Shell Plc say expect co...</td>\n",
       "      <td>0.024</td>\n",
       "      <td>0.782</td>\n",
       "    </tr>\n",
       "  </tbody>\n",
       "</table>\n",
       "</div>"
      ],
      "text/plain": [
       "                                                      content  \\\n",
       "2020-04-18  [SYDNEY] Royal Dutch Shell said on Friday it h...   \n",
       "2020-04-17  [LONDON] Anglo-Dutch oil giant Royal Dutch She...   \n",
       "2020-04-15  [NEW YORK] A leak in a pipeline that carries o...   \n",
       "2020-04-02  LondonROYAL Dutch Shell slowed refining output...   \n",
       "2020-04-01  [LONDON] Royal Dutch Shell Plc said it doesn't...   \n",
       "\n",
       "                                                 spacy_tokens  \\\n",
       "2020-04-18  ([, SYDNEY, ], Royal, Dutch, Shell, said, on, ...   \n",
       "2020-04-17  ([, LONDON, ], Anglo, -, Dutch, oil, giant, Ro...   \n",
       "2020-04-15  ([, NEW, YORK, ], A, leak, in, a, pipeline, th...   \n",
       "2020-04-02  (LondonROYAL, Dutch, Shell, slowed, refining, ...   \n",
       "2020-04-01  ([, LONDON, ], Royal, Dutch, Shell, Plc, said,...   \n",
       "\n",
       "                                              spacy_processed  \\\n",
       "2020-04-18  [[, SYDNEY, ], Royal, Dutch, Shell, say, Frida...   \n",
       "2020-04-17  [[, LONDON, ], anglo, -, dutch, oil, giant, Ro...   \n",
       "2020-04-15  [[, NEW, YORK, ], leak, pipeline, carry, oil, ...   \n",
       "2020-04-02  [LondonROYAL, Dutch, Shell, slow, refining, ou...   \n",
       "2020-04-01  [[, LONDON, ], Royal, Dutch, Shell, Plc, say, ...   \n",
       "\n",
       "                                                 spacy_string  TextBlob_spacy  \\\n",
       "2020-04-18  [ SYDNEY ] Royal Dutch Shell say Friday take f...           0.036   \n",
       "2020-04-17  [ LONDON ] anglo - dutch oil giant Royal Dutch...           0.038   \n",
       "2020-04-15  [ NEW YORK ] leak pipeline carry oil Gulf Mexi...          -0.006   \n",
       "2020-04-02  LondonROYAL Dutch Shell slow refining output w...          -0.037   \n",
       "2020-04-01  [ LONDON ] Royal Dutch Shell Plc say expect co...           0.024   \n",
       "\n",
       "            NLTK_spacy  \n",
       "2020-04-18      -0.825  \n",
       "2020-04-17      -0.939  \n",
       "2020-04-15      -0.402  \n",
       "2020-04-02       0.331  \n",
       "2020-04-01       0.782  "
      ]
     },
     "execution_count": 12,
     "metadata": {},
     "output_type": "execute_result"
    }
   ],
   "source": [
    "from textblob import TextBlob\n",
    "\n",
    "import nltk\n",
    "from nltk.sentiment.vader import SentimentIntensityAnalyzer\n",
    "from nltk.tag.perceptron import PerceptronTagger\n",
    "from nltk.corpus import wordnet as wn\n",
    "from nltk.corpus import sentiwordnet as swn\n",
    "nltk.download('vader_lexicon')\n",
    "sia = SentimentIntensityAnalyzer()\n",
    "import lexicon\n",
    "\n",
    "\n",
    "df['spacy_tokens'] = df['content'].apply(spacy_nlp)\n",
    "\n",
    "def spacy_lemma_stopwords(text):\n",
    "    \"\"\"remove stopwords and lemmatise all spacy tokens\"\"\"\n",
    "    return [token.lemma_ for token in text if not token.is_stop]\n",
    "\n",
    "spacy_process = lambda x: spacy_lemma_stopwords(x)\n",
    "df[\"spacy_processed\"] = df.spacy_tokens.apply(spacy_process)\n",
    "\n",
    "def spacy_to_string(text):\n",
    "    \"\"\"convert lemmatised Spacy tokens back to string\"\"\"\n",
    "    return ' '.join(text)\n",
    "\n",
    "spacy_to_str = lambda x: spacy_to_string(x)\n",
    "df[\"spacy_string\"] = df.spacy_processed.apply(spacy_to_str)\n",
    "\n",
    "# Apply sentiment algorithms\n",
    "TB = lambda x: round(TextBlob(x).sentiment.polarity, 3)\n",
    "NLTK = lambda x: round(sia.polarity_scores(x)['compound'], 3)\n",
    "\n",
    "df['TextBlob_spacy'] = df.spacy_string.apply(TB)\n",
    "df['NLTK_spacy'] = df.spacy_string.apply(NLTK)\n",
    "\n",
    "df.head()"
   ]
  },
  {
   "cell_type": "code",
   "execution_count": 13,
   "metadata": {},
   "outputs": [
    {
     "data": {
      "text/plain": [
       "'[ LONDON ] anglo - dutch oil giant Royal Dutch Shell pledge Thursday carbon neutral 2050 , match commitment rival BP climate change loom large energy sector . \"Society expectation shift quickly debate climate change , \" chief executive Ben van Beurden say statement . \"Shell need ambition , aim net - zero emission energy business 2050 sooner . society , customer , expect . \"The company say plan net zero emission manufacture product 2050 \" latest\" . seek \" step society aim limit average temperature rise 1.5 degree Celsius , line goal Paris Agreement climate change\" . sign , agree Privacy Policy term Conditions . Shell look reduce describe \" net carbon footprint \" energy product 65 cent 2050 , 30 cent 2035.it try pivot serve business sector aim net - zero emission 2050.the pledge come sector ravage collapse oil price . world oil price nosedive Wednesday near - decade low , WTI crude tumble us$ 20 barrel , dire warning virus - trigger demand shock overshadow deal cut output . price crumble virus slam global economy appetite energy , situation compound supply glut result price war Organization Petroleum Exporting Countries ( OPEC ) cartel kingpin Saudi Arabia non - OPEC rival Russia . haemorrhaging price place severe strain Shell finance force cut investment . \"With Covid-19 pandemic have impact people health economy , extraordinary time , \" Mr van Beurden say ahead annual investment briefing later Thursday . \"Yet time immediate challenge , maintain focus long - term , \" add reference carbon neutral target . February , Shell main british rival BP declare aim achieve \" net zero \" carbon emission 2050 new chief executive Bernard Looney face criticism environmental campaigner lack detail plan hit target . climate - relate disaster - protest inspire swedish teen activist Greta Thunberg - country announce climate emergency , prompt increase number company try curb carbon emission line Paris climate change goal . AFP [ SINGAPORE ] Ministry Health ( MOH ) confirm 618 new Covid-19 case Saturday , take total ... [NEW YORK ] publicly list company worth hundred million dollar say Friday plan ... [NEW YORK ] AT&T , telecommunications giant move medium entertainment , announce change ... [WASHINGTON ] government consider take equity stake energy company seek help ... [athens ] Ratings agency Standard & Poor downgrade outlook Greece forecast economy ... sign , agree Privacy Policy term Conditions . SPH Digital News © 2020 SINGAPORE PRESS HOLDINGS LTD . REGN . 198402668E'"
      ]
     },
     "execution_count": 13,
     "metadata": {},
     "output_type": "execute_result"
    }
   ],
   "source": [
    "df['spacy_string'][1]"
   ]
  },
  {
   "cell_type": "code",
   "execution_count": 14,
   "metadata": {},
   "outputs": [
    {
     "data": {
      "text/plain": [
       "'[LONDON] Anglo-Dutch oil giant Royal Dutch Shell pledged Thursday to become carbon neutral by 2050, matching a commitment by rival BP as climate change looms large over the energy sector.\"Society\\'s expectations have shifted quickly in the debate around climate change,\" chief executive Ben van Beurden said in a statement.\"Shell now needs to go further with our own ambitions, which is why we aim to be a net-zero emissions energy business by 2050 or sooner. Society, and our customers, expect nothing less.\"The company said it planned to have net zero emissions from the manufacture of all its products by 2050 \"at the latest\".It will also seek \"to be in step with society\\'s aim to limit the average temperature rise to 1.5 degrees Celsius, in line with the goals of the Paris Agreement on climate change\".By signing up, you agree to our Privacy Policy and Terms and Conditions.Shell will look to reduce what it described as the \"net carbon footprint\" of its energy products by around 65 per cent by 2050, and by 30 per cent by 2035.It will also try and pivot towards serving businesses and sectors that also aim for net-zero emissions by 2050.The pledge comes as the sector has been ravaged by collapsing oil prices.World oil prices nosedived Wednesday to near two-decade lows, with WTI crude tumbling under US$20 a barrel, as dire warnings about a virus-triggered demand shock overshadowed a deal to cut output.Prices have crumbled as the virus slams the global economy and its appetite for energy, with the situation compounded by a supply glut resulting from a price war between the Organization of the Petroleum Exporting Countries (OPEC) cartel kingpin Saudi Arabia and non-OPEC rival Russia.The haemorrhaging in prices has placed severe strain on Shell\\'s finances and forced it to cut investment.\"With the Covid-19 pandemic having a serious impact on people\\'s health and our economies, these are extraordinary times,\" Mr van Beurden said ahead of an annual investment briefing later Thursday.\"Yet even at this time of immediate challenge, we must also maintain the focus on the long-term,\" he added in reference to the carbon neutral target.In February, Shell\\'s main British rival BP also declared its aim to achieve \"net zero\" carbon emissions by 2050 under new chief executive Bernard Looney but it faced criticism from environmental campaigners over the lack of detail on how it planned to hit the target.After various climate-related disasters - and protests that have been inspired by Swedish teen activist Greta Thunberg - several countries have announced a climate emergency, which has prompted an increasing number of companies to try to curb carbon emissions in line with the Paris climate change goals.AFP [SINGAPORE] The Ministry of Health (MOH) confirmed another 618 new Covid-19 cases on Saturday, taking the total...[NEW YORK] Several publicly listed companies worth hundreds of millions of dollars said on Friday they had no plans...[NEW YORK] AT&T, the telecommunications giant that has moved into media and entertainment, announced a changing...[WASHINGTON] The US government is considering taking equity stakes in US energy companies as it seeks to help the...[ATHENS] Ratings agency Standard & Poor\\'s has downgraded its outlook for Greece on forecasts the economy will...By signing up, you agree to our Privacy Policy and Terms and Conditions.SPH Digital News© 2020 SINGAPORE PRESS HOLDINGS LTD. REGN NO. 198402668E '"
      ]
     },
     "execution_count": 14,
     "metadata": {},
     "output_type": "execute_result"
    }
   ],
   "source": [
    "df['content'][1]"
   ]
  },
  {
   "cell_type": "markdown",
   "metadata": {},
   "source": [
    "# Sentiment analysis"
   ]
  },
  {
   "cell_type": "code",
   "execution_count": 15,
   "metadata": {},
   "outputs": [],
   "source": [
    "\n",
    "def get_tweet_sentiment(tweet): \n",
    "        ''' \n",
    "        Utilityfunction to classify sentiment of passed tweet \n",
    "        using textblob's sentiment method \n",
    "        '''\n",
    "        # create TextBlob object of passed tweet text \n",
    "\n",
    "        analysis = TextBlob(tweet) \n",
    "\n",
    "        # set sentiment \n",
    "        \n",
    "        if analysis.sentiment.polarity > 0: \n",
    "            return 'positive'\n",
    "        elif analysis.sentiment.polarity == 0: \n",
    "            return 'neutral'\n",
    "        else: \n",
    "            return 'negative'"
   ]
  },
  {
   "cell_type": "code",
   "execution_count": 16,
   "metadata": {},
   "outputs": [],
   "source": [
    "def get_tweets(fetched_tweets): \n",
    "    parsed_tweet = []\n",
    "\n",
    "    for tweet in fetched_tweets: \n",
    "        parsed_tweet.append(get_tweet_sentiment(tweet))\n",
    "\n",
    "    return parsed_tweet"
   ]
  },
  {
   "cell_type": "code",
   "execution_count": 17,
   "metadata": {
    "scrolled": true
   },
   "outputs": [
    {
     "data": {
      "text/plain": [
       "['positive',\n",
       " 'positive',\n",
       " 'positive',\n",
       " 'positive',\n",
       " 'positive',\n",
       " 'positive',\n",
       " 'positive',\n",
       " 'positive',\n",
       " 'positive',\n",
       " 'positive',\n",
       " 'negative',\n",
       " 'positive',\n",
       " 'negative',\n",
       " 'negative',\n",
       " 'negative',\n",
       " 'positive',\n",
       " 'positive',\n",
       " 'positive',\n",
       " 'negative',\n",
       " 'positive',\n",
       " 'positive',\n",
       " 'positive',\n",
       " 'positive',\n",
       " 'positive']"
      ]
     },
     "execution_count": 17,
     "metadata": {},
     "output_type": "execute_result"
    }
   ],
   "source": [
    "z=get_tweets(df['content'])\n",
    "list(z)"
   ]
  },
  {
   "cell_type": "code",
   "execution_count": 18,
   "metadata": {},
   "outputs": [
    {
     "data": {
      "text/plain": [
       "Counter({'positive': 19, 'negative': 5})"
      ]
     },
     "execution_count": 18,
     "metadata": {},
     "output_type": "execute_result"
    }
   ],
   "source": [
    "import collections\n",
    "counter=collections.Counter(z)\n",
    "counter"
   ]
  },
  {
   "cell_type": "code",
   "execution_count": 19,
   "metadata": {},
   "outputs": [
    {
     "data": {
      "image/png": "[encoded data removed]",
      "text/plain": [
       "<Figure size 432x288 with 1 Axes>"
      ]
     },
     "metadata": {
      "needs_background": "light"
     },
     "output_type": "display_data"
    }
   ],
   "source": [
    "import matplotlib.pyplot as plt\n",
    "\n",
    "D = counter\n",
    "\n",
    "plt.bar(range(len(D)), D.values(), align='center')\n",
    "plt.xticks(range(len(D)), list(D.keys()))\n",
    "\n",
    "plt.show()"
   ]
  },
  {
   "cell_type": "markdown",
   "metadata": {},
   "source": [
    "# Text summarization"
   ]
  },
  {
   "cell_type": "code",
   "execution_count": 20,
   "metadata": {},
   "outputs": [
    {
     "name": "stdout",
     "output_type": "stream",
     "text": [
      "2730\n",
      " \"The company said it planned to have net zero emissions from the manufacture of all its products by 2050 \"at the latest\".It will also seek \"to be in step with society's aim to limit the average temperature rise to 1.5 degrees Celsius, in line with the goals of the Paris Agreement on climate change\".By signing up, you agree to our Privacy Policy and Terms and Conditions.Shell will look to reduce what it described as the \"net carbon footprint\" of its energy products by around 65 per cent by 2050, and by 30 per cent by 2035.It will also try and pivot towards serving businesses and sectors that also aim for net-zero emissions by 2050.The pledge comes as the sector has been ravaged by collapsing oil prices.World oil prices nosedived Wednesday to near two-decade lows, with WTI crude tumbling under US$20 a barrel, as dire warnings about a virus-triggered demand shock overshadowed a deal to cut output.Prices have crumbled as the virus slams the global economy and its appetite for energy, with the situation compounded by a supply glut resulting from a price war between the Organization of the Petroleum Exporting Countries (OPEC) cartel kingpin Saudi Arabia and non-OPEC rival Russia.The haemorrhaging in prices has placed severe strain on Shell's finances and forced it to cut investment. \"Yet even at this time of immediate challenge, we must also maintain the focus on the long-term,\" he added in reference to the carbon neutral target.In February, Shell's main British rival BP also declared its aim to achieve \"net zero\" carbon emissions by 2050 under new chief executive Bernard Looney but it faced criticism from environmental campaigners over the lack of detail on how it planned to hit the target.After various climate-related disasters - and protests that have been inspired by Swedish teen activist Greta Thunberg - several countries have announced a climate emergency, which has prompted an increasing number of companies to try to curb carbon emissions in line with the Paris climate change goals.AFP [SINGAPORE] The Ministry of Health (MOH) confirmed another 618 new Covid-19 cases on Saturday, taking the total...[NEW YORK] Several publicly listed companies worth hundreds of millions of dollars said on Friday they had no plans...[NEW YORK] AT&T, the telecommunications giant that has moved into media and entertainment, announced a changing...[WASHINGTON] The US government is considering taking equity stakes in US energy companies as it seeks to help the...[ATHENS] Ratings agency Standard & Poor's has downgraded its outlook for Greece on forecasts the economy will...By signing up, you agree to our Privacy Policy and Terms and Conditions.SPH Digital News© 2020 SINGAPORE PRESS HOLDINGS LTD. REGN NO.\n"
     ]
    }
   ],
   "source": [
    "# importing libraries \n",
    "import nltk \n",
    "from nltk.corpus import stopwords \n",
    "from nltk.tokenize import word_tokenize, sent_tokenize \n",
    "\n",
    "# Input text - to summarize \n",
    "text = df['content'][1]\n",
    "\n",
    "# Tokenizing the text \n",
    "stopWords = set(stopwords.words(\"english\")) \n",
    "words = word_tokenize(text) \n",
    "\n",
    "# Creating a frequency table to keep the \n",
    "# score of each word \n",
    "\n",
    "freqTable = dict() \n",
    "for word in words: \n",
    "    word = word.lower() \n",
    "    if word in stopWords: \n",
    "        continue\n",
    "    if word in freqTable: \n",
    "        freqTable[word] += 1\n",
    "    else: \n",
    "        freqTable[word] = 1\n",
    "\n",
    "# Creating a dictionary to keep the score \n",
    "# of each sentence \n",
    "sentences = sent_tokenize(text) \n",
    "sentenceValue = dict() \n",
    "\n",
    "for sentence in sentences: \n",
    "    for word, freq in freqTable.items(): \n",
    "        if word in sentence.lower(): \n",
    "            if sentence in sentenceValue: \n",
    "                sentenceValue[sentence] += freq \n",
    "            else: \n",
    "                sentenceValue[sentence] = freq \n",
    "\n",
    "\n",
    "\n",
    "sumValues = 0\n",
    "for sentence in sentenceValue: \n",
    "    sumValues += sentenceValue[sentence] \n",
    "\n",
    "# Average value of a sentence from the original text \n",
    "\n",
    "average = int(sumValues / len(sentenceValue)) \n",
    "\n",
    "# Storing sentences into our summary. \n",
    "summary = '' \n",
    "for sentence in sentences: \n",
    "    if (sentence in sentenceValue) and (sentenceValue[sentence] > (1.5 * average)): \n",
    "        summary += \" \" + sentence \n",
    "\n",
    "print(len(summary))        \n",
    "print(summary) \n"
   ]
  },
  {
   "cell_type": "code",
   "execution_count": 21,
   "metadata": {},
   "outputs": [
    {
     "data": {
      "text/plain": [
       "'[LONDON] Anglo-Dutch oil giant Royal Dutch Shell pledged Thursday to become carbon neutral by 2050, matching a commitment by rival BP as climate change looms large over the energy sector.\"Society\\'s expectations have shifted quickly in the debate around climate change,\" chief executive Ben van Beurden said in a statement.\"Shell now needs to go further with our own ambitions, which is why we aim to be a net-zero emissions energy business by 2050 or sooner. Society, and our customers, expect nothing less.\"The company said it planned to have net zero emissions from the manufacture of all its products by 2050 \"at the latest\".It will also seek \"to be in step with society\\'s aim to limit the average temperature rise to 1.5 degrees Celsius, in line with the goals of the Paris Agreement on climate change\".By signing up, you agree to our Privacy Policy and Terms and Conditions.Shell will look to reduce what it described as the \"net carbon footprint\" of its energy products by around 65 per cent by 2050, and by 30 per cent by 2035.It will also try and pivot towards serving businesses and sectors that also aim for net-zero emissions by 2050.The pledge comes as the sector has been ravaged by collapsing oil prices.World oil prices nosedived Wednesday to near two-decade lows, with WTI crude tumbling under US$20 a barrel, as dire warnings about a virus-triggered demand shock overshadowed a deal to cut output.Prices have crumbled as the virus slams the global economy and its appetite for energy, with the situation compounded by a supply glut resulting from a price war between the Organization of the Petroleum Exporting Countries (OPEC) cartel kingpin Saudi Arabia and non-OPEC rival Russia.The haemorrhaging in prices has placed severe strain on Shell\\'s finances and forced it to cut investment.\"With the Covid-19 pandemic having a serious impact on people\\'s health and our economies, these are extraordinary times,\" Mr van Beurden said ahead of an annual investment briefing later Thursday.\"Yet even at this time of immediate challenge, we must also maintain the focus on the long-term,\" he added in reference to the carbon neutral target.In February, Shell\\'s main British rival BP also declared its aim to achieve \"net zero\" carbon emissions by 2050 under new chief executive Bernard Looney but it faced criticism from environmental campaigners over the lack of detail on how it planned to hit the target.After various climate-related disasters - and protests that have been inspired by Swedish teen activist Greta Thunberg - several countries have announced a climate emergency, which has prompted an increasing number of companies to try to curb carbon emissions in line with the Paris climate change goals.AFP [SINGAPORE] The Ministry of Health (MOH) confirmed another 618 new Covid-19 cases on Saturday, taking the total...[NEW YORK] Several publicly listed companies worth hundreds of millions of dollars said on Friday they had no plans...[NEW YORK] AT&T, the telecommunications giant that has moved into media and entertainment, announced a changing...[WASHINGTON] The US government is considering taking equity stakes in US energy companies as it seeks to help the...[ATHENS] Ratings agency Standard & Poor\\'s has downgraded its outlook for Greece on forecasts the economy will...By signing up, you agree to our Privacy Policy and Terms and Conditions.SPH Digital News© 2020 SINGAPORE PRESS HOLDINGS LTD. REGN NO. 198402668E '"
      ]
     },
     "execution_count": 21,
     "metadata": {},
     "output_type": "execute_result"
    }
   ],
   "source": [
    "df['content'][1]"
   ]
  },
  {
   "cell_type": "code",
   "execution_count": null,
   "metadata": {},
   "outputs": [],
   "source": []
  },
  {
   "cell_type": "code",
   "execution_count": null,
   "metadata": {},
   "outputs": [],
   "source": []
  }
 ],
 "metadata": {
  "kernelspec": {
   "display_name": "Python 3",
   "language": "python",
   "name": "python3"
  },
  "language_info": {
   "codemirror_mode": {
    "name": "ipython",
    "version": 3
   },
   "file_extension": ".py",
   "mimetype": "text/x-python",
   "name": "python",
   "nbconvert_exporter": "python",
   "pygments_lexer": "ipython3",
   "version": "3.7.3"
  }
 },
 "nbformat": 4,
 "nbformat_minor": 2
}
